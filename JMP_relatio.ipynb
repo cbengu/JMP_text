{
 "cells": [
  {
   "cell_type": "code",
   "execution_count": 1,
   "id": "c92a948a",
   "metadata": {},
   "outputs": [
    {
     "name": "stdout",
     "output_type": "stream",
     "text": [
      "Requirement already satisfied: pip in /Users/cerenbengucibik/opt/anaconda3/lib/python3.9/site-packages (22.3)\n",
      "Requirement already satisfied: wheel in /Users/cerenbengucibik/opt/anaconda3/lib/python3.9/site-packages (0.38.1)\n",
      "Requirement already satisfied: setuptools in /Users/cerenbengucibik/opt/anaconda3/lib/python3.9/site-packages (65.5.0)\n"
     ]
    }
   ],
   "source": [
    "!python -m pip install -U pip wheel setuptools"
   ]
  },
  {
   "cell_type": "code",
   "execution_count": 2,
   "id": "638c46cf",
   "metadata": {},
   "outputs": [
    {
     "name": "stdout",
     "output_type": "stream",
     "text": [
      "Requirement already satisfied: relatio in /Users/cerenbengucibik/opt/anaconda3/lib/python3.9/site-packages (0.2.1)\n",
      "Requirement already satisfied: tensorflow>=2 in /Users/cerenbengucibik/opt/anaconda3/lib/python3.9/site-packages (from relatio) (2.10.0)\n",
      "Requirement already satisfied: scikit-learn>=0.22 in /Users/cerenbengucibik/opt/anaconda3/lib/python3.9/site-packages (from relatio) (1.1.3)\n",
      "Requirement already satisfied: gensim<4,>=3 in /Users/cerenbengucibik/opt/anaconda3/lib/python3.9/site-packages (from relatio) (3.8.3)\n",
      "Requirement already satisfied: pyvis>=0.1.9 in /Users/cerenbengucibik/opt/anaconda3/lib/python3.9/site-packages (from relatio) (0.3.0)\n",
      "Requirement already satisfied: nltk>=3 in /Users/cerenbengucibik/opt/anaconda3/lib/python3.9/site-packages (from relatio) (3.6.5)\n",
      "Requirement already satisfied: matplotlib>=3 in /Users/cerenbengucibik/opt/anaconda3/lib/python3.9/site-packages (from relatio) (3.4.3)\n",
      "Requirement already satisfied: pandas>=1 in /Users/cerenbengucibik/opt/anaconda3/lib/python3.9/site-packages (from relatio) (1.3.4)\n",
      "Requirement already satisfied: requests>=2 in /Users/cerenbengucibik/opt/anaconda3/lib/python3.9/site-packages (from relatio) (2.28.1)\n",
      "Requirement already satisfied: tensorflow-hub in /Users/cerenbengucibik/opt/anaconda3/lib/python3.9/site-packages (from relatio) (0.12.0)\n",
      "Requirement already satisfied: allennlp-models>=2.3 in /Users/cerenbengucibik/opt/anaconda3/lib/python3.9/site-packages (from relatio) (2.10.1)\n",
      "Requirement already satisfied: networkx>=2.5 in /Users/cerenbengucibik/opt/anaconda3/lib/python3.9/site-packages (from relatio) (2.6.3)\n",
      "Requirement already satisfied: spacy>=3 in /Users/cerenbengucibik/opt/anaconda3/lib/python3.9/site-packages (from relatio) (3.3.1)\n",
      "Requirement already satisfied: py-rouge==1.1 in /Users/cerenbengucibik/opt/anaconda3/lib/python3.9/site-packages (from allennlp-models>=2.3->relatio) (1.1)\n",
      "Requirement already satisfied: conllu==4.4.2 in /Users/cerenbengucibik/opt/anaconda3/lib/python3.9/site-packages (from allennlp-models>=2.3->relatio) (4.4.2)\n",
      "Requirement already satisfied: ftfy in /Users/cerenbengucibik/opt/anaconda3/lib/python3.9/site-packages (from allennlp-models>=2.3->relatio) (6.1.1)\n",
      "Requirement already satisfied: datasets in /Users/cerenbengucibik/opt/anaconda3/lib/python3.9/site-packages (from allennlp-models>=2.3->relatio) (2.6.1)\n",
      "Requirement already satisfied: allennlp<2.11,>=2.10.1 in /Users/cerenbengucibik/opt/anaconda3/lib/python3.9/site-packages (from allennlp-models>=2.3->relatio) (2.10.1)\n",
      "Requirement already satisfied: torch<1.13.0,>=1.7.0 in /Users/cerenbengucibik/opt/anaconda3/lib/python3.9/site-packages (from allennlp-models>=2.3->relatio) (1.12.1)\n",
      "Requirement already satisfied: word2number>=1.1 in /Users/cerenbengucibik/opt/anaconda3/lib/python3.9/site-packages (from allennlp-models>=2.3->relatio) (1.1)\n",
      "Requirement already satisfied: scipy>=0.18.1 in /Users/cerenbengucibik/opt/anaconda3/lib/python3.9/site-packages (from gensim<4,>=3->relatio) (1.9.3)\n",
      "Requirement already satisfied: six>=1.5.0 in /Users/cerenbengucibik/opt/anaconda3/lib/python3.9/site-packages (from gensim<4,>=3->relatio) (1.16.0)\n",
      "Requirement already satisfied: smart-open>=1.8.1 in /Users/cerenbengucibik/opt/anaconda3/lib/python3.9/site-packages (from gensim<4,>=3->relatio) (5.2.1)\n",
      "Requirement already satisfied: numpy>=1.11.3 in /Users/cerenbengucibik/opt/anaconda3/lib/python3.9/site-packages (from gensim<4,>=3->relatio) (1.23.4)\n",
      "Requirement already satisfied: kiwisolver>=1.0.1 in /Users/cerenbengucibik/opt/anaconda3/lib/python3.9/site-packages (from matplotlib>=3->relatio) (1.3.1)\n",
      "Requirement already satisfied: pyparsing>=2.2.1 in /Users/cerenbengucibik/opt/anaconda3/lib/python3.9/site-packages (from matplotlib>=3->relatio) (3.0.4)\n",
      "Requirement already satisfied: pillow>=6.2.0 in /Users/cerenbengucibik/opt/anaconda3/lib/python3.9/site-packages (from matplotlib>=3->relatio) (8.4.0)\n",
      "Requirement already satisfied: cycler>=0.10 in /Users/cerenbengucibik/opt/anaconda3/lib/python3.9/site-packages (from matplotlib>=3->relatio) (0.10.0)\n",
      "Requirement already satisfied: python-dateutil>=2.7 in /Users/cerenbengucibik/opt/anaconda3/lib/python3.9/site-packages (from matplotlib>=3->relatio) (2.8.2)\n",
      "Requirement already satisfied: click in /Users/cerenbengucibik/opt/anaconda3/lib/python3.9/site-packages (from nltk>=3->relatio) (8.0.4)\n",
      "Requirement already satisfied: joblib in /Users/cerenbengucibik/opt/anaconda3/lib/python3.9/site-packages (from nltk>=3->relatio) (1.1.0)\n",
      "Requirement already satisfied: regex>=2021.8.3 in /Users/cerenbengucibik/opt/anaconda3/lib/python3.9/site-packages (from nltk>=3->relatio) (2021.8.3)\n",
      "Requirement already satisfied: tqdm in /Users/cerenbengucibik/opt/anaconda3/lib/python3.9/site-packages (from nltk>=3->relatio) (4.62.3)\n",
      "Requirement already satisfied: pytz>=2017.3 in /Users/cerenbengucibik/opt/anaconda3/lib/python3.9/site-packages (from pandas>=1->relatio) (2021.3)\n",
      "Requirement already satisfied: jsonpickle>=1.4.1 in /Users/cerenbengucibik/opt/anaconda3/lib/python3.9/site-packages (from pyvis>=0.1.9->relatio) (2.2.0)\n",
      "Requirement already satisfied: ipython>=5.3.0 in /Users/cerenbengucibik/opt/anaconda3/lib/python3.9/site-packages (from pyvis>=0.1.9->relatio) (7.29.0)\n",
      "Requirement already satisfied: jinja2>=2.9.6 in /Users/cerenbengucibik/opt/anaconda3/lib/python3.9/site-packages (from pyvis>=0.1.9->relatio) (2.11.3)\n",
      "Requirement already satisfied: idna<4,>=2.5 in /Users/cerenbengucibik/opt/anaconda3/lib/python3.9/site-packages (from requests>=2->relatio) (3.2)\n",
      "Requirement already satisfied: charset-normalizer<3,>=2 in /Users/cerenbengucibik/opt/anaconda3/lib/python3.9/site-packages (from requests>=2->relatio) (2.0.4)\n",
      "Requirement already satisfied: certifi>=2017.4.17 in /Users/cerenbengucibik/opt/anaconda3/lib/python3.9/site-packages (from requests>=2->relatio) (2022.9.24)\n",
      "Requirement already satisfied: urllib3<1.27,>=1.21.1 in /Users/cerenbengucibik/opt/anaconda3/lib/python3.9/site-packages (from requests>=2->relatio) (1.26.12)\n",
      "Requirement already satisfied: threadpoolctl>=2.0.0 in /Users/cerenbengucibik/opt/anaconda3/lib/python3.9/site-packages (from scikit-learn>=0.22->relatio) (2.2.0)\n",
      "Requirement already satisfied: spacy-legacy<3.1.0,>=3.0.9 in /Users/cerenbengucibik/opt/anaconda3/lib/python3.9/site-packages (from spacy>=3->relatio) (3.0.10)\n",
      "Requirement already satisfied: pathy>=0.3.5 in /Users/cerenbengucibik/opt/anaconda3/lib/python3.9/site-packages (from spacy>=3->relatio) (0.6.2)\n",
      "Requirement already satisfied: wasabi<1.1.0,>=0.9.1 in /Users/cerenbengucibik/opt/anaconda3/lib/python3.9/site-packages (from spacy>=3->relatio) (0.10.1)\n",
      "Requirement already satisfied: langcodes<4.0.0,>=3.2.0 in /Users/cerenbengucibik/opt/anaconda3/lib/python3.9/site-packages (from spacy>=3->relatio) (3.3.0)\n",
      "Requirement already satisfied: murmurhash<1.1.0,>=0.28.0 in /Users/cerenbengucibik/opt/anaconda3/lib/python3.9/site-packages (from spacy>=3->relatio) (1.0.8)\n",
      "Requirement already satisfied: catalogue<2.1.0,>=2.0.6 in /Users/cerenbengucibik/opt/anaconda3/lib/python3.9/site-packages (from spacy>=3->relatio) (2.0.8)\n",
      "Requirement already satisfied: blis<0.8.0,>=0.4.0 in /Users/cerenbengucibik/opt/anaconda3/lib/python3.9/site-packages (from spacy>=3->relatio) (0.7.8)\n",
      "Requirement already satisfied: cymem<2.1.0,>=2.0.2 in /Users/cerenbengucibik/opt/anaconda3/lib/python3.9/site-packages (from spacy>=3->relatio) (2.0.6)\n",
      "Requirement already satisfied: preshed<3.1.0,>=3.0.2 in /Users/cerenbengucibik/opt/anaconda3/lib/python3.9/site-packages (from spacy>=3->relatio) (3.0.7)\n",
      "Requirement already satisfied: pydantic!=1.8,!=1.8.1,<1.9.0,>=1.7.4 in /Users/cerenbengucibik/opt/anaconda3/lib/python3.9/site-packages (from spacy>=3->relatio) (1.8.2)\n",
      "Requirement already satisfied: srsly<3.0.0,>=2.4.3 in /Users/cerenbengucibik/opt/anaconda3/lib/python3.9/site-packages (from spacy>=3->relatio) (2.4.4)\n",
      "Requirement already satisfied: thinc<8.1.0,>=8.0.14 in /Users/cerenbengucibik/opt/anaconda3/lib/python3.9/site-packages (from spacy>=3->relatio) (8.0.17)\n",
      "Requirement already satisfied: spacy-loggers<2.0.0,>=1.0.0 in /Users/cerenbengucibik/opt/anaconda3/lib/python3.9/site-packages (from spacy>=3->relatio) (1.0.3)\n",
      "Requirement already satisfied: packaging>=20.0 in /Users/cerenbengucibik/opt/anaconda3/lib/python3.9/site-packages (from spacy>=3->relatio) (21.0)\n",
      "Requirement already satisfied: setuptools in /Users/cerenbengucibik/opt/anaconda3/lib/python3.9/site-packages (from spacy>=3->relatio) (65.5.0)\n",
      "Requirement already satisfied: typer<0.5.0,>=0.3.0 in /Users/cerenbengucibik/opt/anaconda3/lib/python3.9/site-packages (from spacy>=3->relatio) (0.4.2)\n"
     ]
    },
    {
     "name": "stdout",
     "output_type": "stream",
     "text": [
      "Requirement already satisfied: absl-py>=1.0.0 in /Users/cerenbengucibik/opt/anaconda3/lib/python3.9/site-packages (from tensorflow>=2->relatio) (1.3.0)\n",
      "Requirement already satisfied: opt-einsum>=2.3.2 in /Users/cerenbengucibik/opt/anaconda3/lib/python3.9/site-packages (from tensorflow>=2->relatio) (3.3.0)\n",
      "Requirement already satisfied: gast<=0.4.0,>=0.2.1 in /Users/cerenbengucibik/opt/anaconda3/lib/python3.9/site-packages (from tensorflow>=2->relatio) (0.4.0)\n",
      "Requirement already satisfied: grpcio<2.0,>=1.24.3 in /Users/cerenbengucibik/opt/anaconda3/lib/python3.9/site-packages (from tensorflow>=2->relatio) (1.42.0)\n",
      "Requirement already satisfied: tensorflow-estimator<2.11,>=2.10.0 in /Users/cerenbengucibik/opt/anaconda3/lib/python3.9/site-packages (from tensorflow>=2->relatio) (2.10.0)\n",
      "Requirement already satisfied: h5py>=2.9.0 in /Users/cerenbengucibik/opt/anaconda3/lib/python3.9/site-packages (from tensorflow>=2->relatio) (3.7.0)\n",
      "Requirement already satisfied: libclang>=13.0.0 in /Users/cerenbengucibik/opt/anaconda3/lib/python3.9/site-packages (from tensorflow>=2->relatio) (14.0.6)\n",
      "Requirement already satisfied: termcolor>=1.1.0 in /Users/cerenbengucibik/opt/anaconda3/lib/python3.9/site-packages (from tensorflow>=2->relatio) (1.1.0)\n",
      "Requirement already satisfied: tensorboard<2.11,>=2.10 in /Users/cerenbengucibik/opt/anaconda3/lib/python3.9/site-packages (from tensorflow>=2->relatio) (2.10.1)\n",
      "Requirement already satisfied: protobuf<3.20,>=3.9.2 in /Users/cerenbengucibik/opt/anaconda3/lib/python3.9/site-packages (from tensorflow>=2->relatio) (3.19.1)\n",
      "Requirement already satisfied: flatbuffers>=2.0 in /Users/cerenbengucibik/opt/anaconda3/lib/python3.9/site-packages (from tensorflow>=2->relatio) (22.10.26)\n",
      "Requirement already satisfied: astunparse>=1.6.0 in /Users/cerenbengucibik/opt/anaconda3/lib/python3.9/site-packages (from tensorflow>=2->relatio) (1.6.3)\n",
      "Requirement already satisfied: keras-preprocessing>=1.1.1 in /Users/cerenbengucibik/opt/anaconda3/lib/python3.9/site-packages (from tensorflow>=2->relatio) (1.1.2)\n",
      "Requirement already satisfied: tensorflow-io-gcs-filesystem>=0.23.1 in /Users/cerenbengucibik/opt/anaconda3/lib/python3.9/site-packages (from tensorflow>=2->relatio) (0.27.0)\n",
      "Requirement already satisfied: keras<2.11,>=2.10.0 in /Users/cerenbengucibik/opt/anaconda3/lib/python3.9/site-packages (from tensorflow>=2->relatio) (2.10.0)\n",
      "Requirement already satisfied: typing-extensions>=3.6.6 in /Users/cerenbengucibik/opt/anaconda3/lib/python3.9/site-packages (from tensorflow>=2->relatio) (3.10.0.2)\n",
      "Requirement already satisfied: google-pasta>=0.1.1 in /Users/cerenbengucibik/opt/anaconda3/lib/python3.9/site-packages (from tensorflow>=2->relatio) (0.2.0)\n",
      "Requirement already satisfied: wrapt>=1.11.0 in /Users/cerenbengucibik/opt/anaconda3/lib/python3.9/site-packages (from tensorflow>=2->relatio) (1.12.1)\n",
      "Requirement already satisfied: sentencepiece>=0.1.96 in /Users/cerenbengucibik/opt/anaconda3/lib/python3.9/site-packages (from allennlp<2.11,>=2.10.1->allennlp-models>=2.3->relatio) (0.1.97)\n",
      "Requirement already satisfied: jsonnet>=0.10.0 in /Users/cerenbengucibik/opt/anaconda3/lib/python3.9/site-packages (from allennlp<2.11,>=2.10.1->allennlp-models>=2.3->relatio) (0.19.1)\n",
      "Requirement already satisfied: huggingface-hub>=0.0.16 in /Users/cerenbengucibik/opt/anaconda3/lib/python3.9/site-packages (from allennlp<2.11,>=2.10.1->allennlp-models>=2.3->relatio) (0.10.1)\n",
      "Requirement already satisfied: sacremoses in /Users/cerenbengucibik/opt/anaconda3/lib/python3.9/site-packages (from allennlp<2.11,>=2.10.1->allennlp-models>=2.3->relatio) (0.0.53)\n",
      "Requirement already satisfied: wandb<0.13.0,>=0.10.0 in /Users/cerenbengucibik/opt/anaconda3/lib/python3.9/site-packages (from allennlp<2.11,>=2.10.1->allennlp-models>=2.3->relatio) (0.12.21)\n",
      "Requirement already satisfied: cached-path<1.2.0,>=1.1.3 in /Users/cerenbengucibik/opt/anaconda3/lib/python3.9/site-packages (from allennlp<2.11,>=2.10.1->allennlp-models>=2.3->relatio) (1.1.6)\n",
      "Requirement already satisfied: torchvision<0.14.0,>=0.8.1 in /Users/cerenbengucibik/opt/anaconda3/lib/python3.9/site-packages (from allennlp<2.11,>=2.10.1->allennlp-models>=2.3->relatio) (0.13.1)\n",
      "Requirement already satisfied: transformers<4.21,>=4.1 in /Users/cerenbengucibik/opt/anaconda3/lib/python3.9/site-packages (from allennlp<2.11,>=2.10.1->allennlp-models>=2.3->relatio) (4.20.1)\n",
      "Requirement already satisfied: base58>=2.1.1 in /Users/cerenbengucibik/opt/anaconda3/lib/python3.9/site-packages (from allennlp<2.11,>=2.10.1->allennlp-models>=2.3->relatio) (2.1.1)\n",
      "Requirement already satisfied: tensorboardX>=1.2 in /Users/cerenbengucibik/opt/anaconda3/lib/python3.9/site-packages (from allennlp<2.11,>=2.10.1->allennlp-models>=2.3->relatio) (2.5.1)\n",
      "Requirement already satisfied: dill>=0.3.4 in /Users/cerenbengucibik/opt/anaconda3/lib/python3.9/site-packages (from allennlp<2.11,>=2.10.1->allennlp-models>=2.3->relatio) (0.3.5.1)\n",
      "Requirement already satisfied: fairscale==0.4.6 in /Users/cerenbengucibik/opt/anaconda3/lib/python3.9/site-packages (from allennlp<2.11,>=2.10.1->allennlp-models>=2.3->relatio) (0.4.6)\n",
      "Requirement already satisfied: filelock<3.8,>=3.3 in /Users/cerenbengucibik/opt/anaconda3/lib/python3.9/site-packages (from allennlp<2.11,>=2.10.1->allennlp-models>=2.3->relatio) (3.7.1)\n",
      "Requirement already satisfied: pytest>=6.2.5 in /Users/cerenbengucibik/opt/anaconda3/lib/python3.9/site-packages (from allennlp<2.11,>=2.10.1->allennlp-models>=2.3->relatio) (7.2.0)\n",
      "Requirement already satisfied: traitlets>5.1.1 in /Users/cerenbengucibik/opt/anaconda3/lib/python3.9/site-packages (from allennlp<2.11,>=2.10.1->allennlp-models>=2.3->relatio) (5.5.0)\n",
      "Requirement already satisfied: lmdb>=1.2.1 in /Users/cerenbengucibik/opt/anaconda3/lib/python3.9/site-packages (from allennlp<2.11,>=2.10.1->allennlp-models>=2.3->relatio) (1.3.0)\n",
      "Requirement already satisfied: more-itertools>=8.12.0 in /Users/cerenbengucibik/opt/anaconda3/lib/python3.9/site-packages (from allennlp<2.11,>=2.10.1->allennlp-models>=2.3->relatio) (9.0.0)\n",
      "Requirement already satisfied: wheel<1.0,>=0.23.0 in /Users/cerenbengucibik/opt/anaconda3/lib/python3.9/site-packages (from astunparse>=1.6.0->tensorflow>=2->relatio) (0.38.1)\n",
      "Requirement already satisfied: prompt-toolkit!=3.0.0,!=3.0.1,<3.1.0,>=2.0.0 in /Users/cerenbengucibik/opt/anaconda3/lib/python3.9/site-packages (from ipython>=5.3.0->pyvis>=0.1.9->relatio) (3.0.20)\n",
      "Requirement already satisfied: backcall in /Users/cerenbengucibik/opt/anaconda3/lib/python3.9/site-packages (from ipython>=5.3.0->pyvis>=0.1.9->relatio) (0.2.0)\n",
      "Requirement already satisfied: pexpect>4.3 in /Users/cerenbengucibik/opt/anaconda3/lib/python3.9/site-packages (from ipython>=5.3.0->pyvis>=0.1.9->relatio) (4.8.0)\n",
      "Requirement already satisfied: appnope in /Users/cerenbengucibik/opt/anaconda3/lib/python3.9/site-packages (from ipython>=5.3.0->pyvis>=0.1.9->relatio) (0.1.2)\n",
      "Requirement already satisfied: jedi>=0.16 in /Users/cerenbengucibik/opt/anaconda3/lib/python3.9/site-packages (from ipython>=5.3.0->pyvis>=0.1.9->relatio) (0.18.0)\n",
      "Requirement already satisfied: pygments in /Users/cerenbengucibik/opt/anaconda3/lib/python3.9/site-packages (from ipython>=5.3.0->pyvis>=0.1.9->relatio) (2.10.0)\n",
      "Requirement already satisfied: pickleshare in /Users/cerenbengucibik/opt/anaconda3/lib/python3.9/site-packages (from ipython>=5.3.0->pyvis>=0.1.9->relatio) (0.7.5)\n",
      "Requirement already satisfied: matplotlib-inline in /Users/cerenbengucibik/opt/anaconda3/lib/python3.9/site-packages (from ipython>=5.3.0->pyvis>=0.1.9->relatio) (0.1.2)\n",
      "Requirement already satisfied: decorator in /Users/cerenbengucibik/opt/anaconda3/lib/python3.9/site-packages (from ipython>=5.3.0->pyvis>=0.1.9->relatio) (5.1.0)\n",
      "Requirement already satisfied: MarkupSafe>=0.23 in /Users/cerenbengucibik/opt/anaconda3/lib/python3.9/site-packages (from jinja2>=2.9.6->pyvis>=0.1.9->relatio) (1.1.1)\n",
      "Requirement already satisfied: tensorboard-data-server<0.7.0,>=0.6.0 in /Users/cerenbengucibik/opt/anaconda3/lib/python3.9/site-packages (from tensorboard<2.11,>=2.10->tensorflow>=2->relatio) (0.6.1)\n",
      "Requirement already satisfied: markdown>=2.6.8 in /Users/cerenbengucibik/opt/anaconda3/lib/python3.9/site-packages (from tensorboard<2.11,>=2.10->tensorflow>=2->relatio) (3.3.4)\n",
      "Requirement already satisfied: tensorboard-plugin-wit>=1.6.0 in /Users/cerenbengucibik/opt/anaconda3/lib/python3.9/site-packages (from tensorboard<2.11,>=2.10->tensorflow>=2->relatio) (1.8.1)\n",
      "Requirement already satisfied: google-auth-oauthlib<0.5,>=0.4.1 in /Users/cerenbengucibik/opt/anaconda3/lib/python3.9/site-packages (from tensorboard<2.11,>=2.10->tensorflow>=2->relatio) (0.4.6)\n",
      "Requirement already satisfied: werkzeug>=1.0.1 in /Users/cerenbengucibik/opt/anaconda3/lib/python3.9/site-packages (from tensorboard<2.11,>=2.10->tensorflow>=2->relatio) (2.0.2)\n",
      "Requirement already satisfied: google-auth<3,>=1.6.3 in /Users/cerenbengucibik/opt/anaconda3/lib/python3.9/site-packages (from tensorboard<2.11,>=2.10->tensorflow>=2->relatio) (2.6.0)\n"
     ]
    },
    {
     "name": "stdout",
     "output_type": "stream",
     "text": [
      "Requirement already satisfied: aiohttp in /Users/cerenbengucibik/opt/anaconda3/lib/python3.9/site-packages (from datasets->allennlp-models>=2.3->relatio) (3.8.1)\n",
      "Requirement already satisfied: responses<0.19 in /Users/cerenbengucibik/opt/anaconda3/lib/python3.9/site-packages (from datasets->allennlp-models>=2.3->relatio) (0.18.0)\n",
      "Requirement already satisfied: pyyaml>=5.1 in /Users/cerenbengucibik/opt/anaconda3/lib/python3.9/site-packages (from datasets->allennlp-models>=2.3->relatio) (6.0)\n",
      "Requirement already satisfied: multiprocess in /Users/cerenbengucibik/opt/anaconda3/lib/python3.9/site-packages (from datasets->allennlp-models>=2.3->relatio) (0.70.13)\n",
      "Requirement already satisfied: pyarrow>=6.0.0 in /Users/cerenbengucibik/opt/anaconda3/lib/python3.9/site-packages (from datasets->allennlp-models>=2.3->relatio) (10.0.0)\n",
      "Requirement already satisfied: xxhash in /Users/cerenbengucibik/opt/anaconda3/lib/python3.9/site-packages (from datasets->allennlp-models>=2.3->relatio) (3.1.0)\n",
      "Requirement already satisfied: fsspec[http]>=2021.11.1 in /Users/cerenbengucibik/opt/anaconda3/lib/python3.9/site-packages (from datasets->allennlp-models>=2.3->relatio) (2022.10.0)\n",
      "Requirement already satisfied: wcwidth>=0.2.5 in /Users/cerenbengucibik/opt/anaconda3/lib/python3.9/site-packages (from ftfy->allennlp-models>=2.3->relatio) (0.2.5)\n",
      "Requirement already satisfied: google-cloud-storage<3.0,>=1.32.0 in /Users/cerenbengucibik/opt/anaconda3/lib/python3.9/site-packages (from cached-path<1.2.0,>=1.1.3->allennlp<2.11,>=2.10.1->allennlp-models>=2.3->relatio) (1.43.0)\n",
      "Requirement already satisfied: rich<13.0,>=12.1 in /Users/cerenbengucibik/opt/anaconda3/lib/python3.9/site-packages (from cached-path<1.2.0,>=1.1.3->allennlp<2.11,>=2.10.1->allennlp-models>=2.3->relatio) (12.6.0)\n",
      "Requirement already satisfied: boto3<2.0,>=1.0 in /Users/cerenbengucibik/opt/anaconda3/lib/python3.9/site-packages (from cached-path<1.2.0,>=1.1.3->allennlp<2.11,>=2.10.1->allennlp-models>=2.3->relatio) (1.24.28)\n",
      "Requirement already satisfied: attrs>=17.3.0 in /Users/cerenbengucibik/opt/anaconda3/lib/python3.9/site-packages (from aiohttp->datasets->allennlp-models>=2.3->relatio) (21.2.0)\n",
      "Requirement already satisfied: async-timeout<5.0,>=4.0.0a3 in /Users/cerenbengucibik/opt/anaconda3/lib/python3.9/site-packages (from aiohttp->datasets->allennlp-models>=2.3->relatio) (4.0.2)\n",
      "Requirement already satisfied: frozenlist>=1.1.1 in /Users/cerenbengucibik/opt/anaconda3/lib/python3.9/site-packages (from aiohttp->datasets->allennlp-models>=2.3->relatio) (1.2.0)\n",
      "Requirement already satisfied: aiosignal>=1.1.2 in /Users/cerenbengucibik/opt/anaconda3/lib/python3.9/site-packages (from aiohttp->datasets->allennlp-models>=2.3->relatio) (1.2.0)\n",
      "Requirement already satisfied: yarl<2.0,>=1.0 in /Users/cerenbengucibik/opt/anaconda3/lib/python3.9/site-packages (from aiohttp->datasets->allennlp-models>=2.3->relatio) (1.8.1)\n",
      "Requirement already satisfied: multidict<7.0,>=4.5 in /Users/cerenbengucibik/opt/anaconda3/lib/python3.9/site-packages (from aiohttp->datasets->allennlp-models>=2.3->relatio) (6.0.2)\n",
      "Requirement already satisfied: rsa<5,>=3.1.4 in /Users/cerenbengucibik/opt/anaconda3/lib/python3.9/site-packages (from google-auth<3,>=1.6.3->tensorboard<2.11,>=2.10->tensorflow>=2->relatio) (4.7.2)\n",
      "Requirement already satisfied: cachetools<6.0,>=2.0.0 in /Users/cerenbengucibik/opt/anaconda3/lib/python3.9/site-packages (from google-auth<3,>=1.6.3->tensorboard<2.11,>=2.10->tensorflow>=2->relatio) (4.2.2)\n",
      "Requirement already satisfied: pyasn1-modules>=0.2.1 in /Users/cerenbengucibik/opt/anaconda3/lib/python3.9/site-packages (from google-auth<3,>=1.6.3->tensorboard<2.11,>=2.10->tensorflow>=2->relatio) (0.2.8)\n",
      "Requirement already satisfied: requests-oauthlib>=0.7.0 in /Users/cerenbengucibik/opt/anaconda3/lib/python3.9/site-packages (from google-auth-oauthlib<0.5,>=0.4.1->tensorboard<2.11,>=2.10->tensorflow>=2->relatio) (1.3.1)\n",
      "Requirement already satisfied: parso<0.9.0,>=0.8.0 in /Users/cerenbengucibik/opt/anaconda3/lib/python3.9/site-packages (from jedi>=0.16->ipython>=5.3.0->pyvis>=0.1.9->relatio) (0.8.2)\n",
      "Requirement already satisfied: ptyprocess>=0.5 in /Users/cerenbengucibik/opt/anaconda3/lib/python3.9/site-packages (from pexpect>4.3->ipython>=5.3.0->pyvis>=0.1.9->relatio) (0.7.0)\n",
      "Requirement already satisfied: pluggy<2.0,>=0.12 in /Users/cerenbengucibik/opt/anaconda3/lib/python3.9/site-packages (from pytest>=6.2.5->allennlp<2.11,>=2.10.1->allennlp-models>=2.3->relatio) (0.13.1)\n",
      "Requirement already satisfied: iniconfig in /Users/cerenbengucibik/opt/anaconda3/lib/python3.9/site-packages (from pytest>=6.2.5->allennlp<2.11,>=2.10.1->allennlp-models>=2.3->relatio) (1.1.1)\n",
      "Requirement already satisfied: exceptiongroup>=1.0.0rc8 in /Users/cerenbengucibik/opt/anaconda3/lib/python3.9/site-packages (from pytest>=6.2.5->allennlp<2.11,>=2.10.1->allennlp-models>=2.3->relatio) (1.0.0)\n",
      "Requirement already satisfied: tomli>=1.0.0 in /Users/cerenbengucibik/opt/anaconda3/lib/python3.9/site-packages (from pytest>=6.2.5->allennlp<2.11,>=2.10.1->allennlp-models>=2.3->relatio) (2.0.1)\n",
      "Requirement already satisfied: tokenizers!=0.11.3,<0.13,>=0.11.1 in /Users/cerenbengucibik/opt/anaconda3/lib/python3.9/site-packages (from transformers<4.21,>=4.1->allennlp<2.11,>=2.10.1->allennlp-models>=2.3->relatio) (0.12.1)\n",
      "Requirement already satisfied: promise<3,>=2.0 in /Users/cerenbengucibik/opt/anaconda3/lib/python3.9/site-packages (from wandb<0.13.0,>=0.10.0->allennlp<2.11,>=2.10.1->allennlp-models>=2.3->relatio) (2.3)\n",
      "Requirement already satisfied: pathtools in /Users/cerenbengucibik/opt/anaconda3/lib/python3.9/site-packages (from wandb<0.13.0,>=0.10.0->allennlp<2.11,>=2.10.1->allennlp-models>=2.3->relatio) (0.1.2)\n",
      "Requirement already satisfied: sentry-sdk>=1.0.0 in /Users/cerenbengucibik/opt/anaconda3/lib/python3.9/site-packages (from wandb<0.13.0,>=0.10.0->allennlp<2.11,>=2.10.1->allennlp-models>=2.3->relatio) (1.10.1)\n",
      "Requirement already satisfied: shortuuid>=0.5.0 in /Users/cerenbengucibik/opt/anaconda3/lib/python3.9/site-packages (from wandb<0.13.0,>=0.10.0->allennlp<2.11,>=2.10.1->allennlp-models>=2.3->relatio) (1.0.9)\n",
      "Requirement already satisfied: GitPython>=1.0.0 in /Users/cerenbengucibik/opt/anaconda3/lib/python3.9/site-packages (from wandb<0.13.0,>=0.10.0->allennlp<2.11,>=2.10.1->allennlp-models>=2.3->relatio) (3.1.29)\n",
      "Requirement already satisfied: psutil>=5.0.0 in /Users/cerenbengucibik/opt/anaconda3/lib/python3.9/site-packages (from wandb<0.13.0,>=0.10.0->allennlp<2.11,>=2.10.1->allennlp-models>=2.3->relatio) (5.8.0)\n",
      "Requirement already satisfied: setproctitle in /Users/cerenbengucibik/opt/anaconda3/lib/python3.9/site-packages (from wandb<0.13.0,>=0.10.0->allennlp<2.11,>=2.10.1->allennlp-models>=2.3->relatio) (1.3.2)\n",
      "Requirement already satisfied: docker-pycreds>=0.4.0 in /Users/cerenbengucibik/opt/anaconda3/lib/python3.9/site-packages (from wandb<0.13.0,>=0.10.0->allennlp<2.11,>=2.10.1->allennlp-models>=2.3->relatio) (0.4.0)\n",
      "Requirement already satisfied: botocore<1.28.0,>=1.27.28 in /Users/cerenbengucibik/opt/anaconda3/lib/python3.9/site-packages (from boto3<2.0,>=1.0->cached-path<1.2.0,>=1.1.3->allennlp<2.11,>=2.10.1->allennlp-models>=2.3->relatio) (1.27.59)\n",
      "Requirement already satisfied: jmespath<2.0.0,>=0.7.1 in /Users/cerenbengucibik/opt/anaconda3/lib/python3.9/site-packages (from boto3<2.0,>=1.0->cached-path<1.2.0,>=1.1.3->allennlp<2.11,>=2.10.1->allennlp-models>=2.3->relatio) (0.10.0)\n",
      "Requirement already satisfied: s3transfer<0.7.0,>=0.6.0 in /Users/cerenbengucibik/opt/anaconda3/lib/python3.9/site-packages (from boto3<2.0,>=1.0->cached-path<1.2.0,>=1.1.3->allennlp<2.11,>=2.10.1->allennlp-models>=2.3->relatio) (0.6.0)\n",
      "Requirement already satisfied: gitdb<5,>=4.0.1 in /Users/cerenbengucibik/opt/anaconda3/lib/python3.9/site-packages (from GitPython>=1.0.0->wandb<0.13.0,>=0.10.0->allennlp<2.11,>=2.10.1->allennlp-models>=2.3->relatio) (4.0.9)\n",
      "Requirement already satisfied: google-cloud-core<3.0dev,>=1.6.0 in /Users/cerenbengucibik/opt/anaconda3/lib/python3.9/site-packages (from google-cloud-storage<3.0,>=1.32.0->cached-path<1.2.0,>=1.1.3->allennlp<2.11,>=2.10.1->allennlp-models>=2.3->relatio) (2.2.2)\n",
      "Requirement already satisfied: google-api-core<3.0dev,>=1.29.0 in /Users/cerenbengucibik/opt/anaconda3/lib/python3.9/site-packages (from google-cloud-storage<3.0,>=1.32.0->cached-path<1.2.0,>=1.1.3->allennlp<2.11,>=2.10.1->allennlp-models>=2.3->relatio) (2.2.2)\n",
      "Requirement already satisfied: google-resumable-media<3.0dev,>=1.3.0 in /Users/cerenbengucibik/opt/anaconda3/lib/python3.9/site-packages (from google-cloud-storage<3.0,>=1.32.0->cached-path<1.2.0,>=1.1.3->allennlp<2.11,>=2.10.1->allennlp-models>=2.3->relatio) (1.3.1)\n"
     ]
    },
    {
     "name": "stdout",
     "output_type": "stream",
     "text": [
      "Requirement already satisfied: pyasn1<0.5.0,>=0.4.6 in /Users/cerenbengucibik/opt/anaconda3/lib/python3.9/site-packages (from pyasn1-modules>=0.2.1->google-auth<3,>=1.6.3->tensorboard<2.11,>=2.10->tensorflow>=2->relatio) (0.4.8)\n",
      "Requirement already satisfied: oauthlib>=3.0.0 in /Users/cerenbengucibik/opt/anaconda3/lib/python3.9/site-packages (from requests-oauthlib>=0.7.0->google-auth-oauthlib<0.5,>=0.4.1->tensorboard<2.11,>=2.10->tensorflow>=2->relatio) (3.2.2)\n",
      "Requirement already satisfied: commonmark<0.10.0,>=0.9.0 in /Users/cerenbengucibik/opt/anaconda3/lib/python3.9/site-packages (from rich<13.0,>=12.1->cached-path<1.2.0,>=1.1.3->allennlp<2.11,>=2.10.1->allennlp-models>=2.3->relatio) (0.9.1)\n",
      "Requirement already satisfied: smmap<6,>=3.0.1 in /Users/cerenbengucibik/opt/anaconda3/lib/python3.9/site-packages (from gitdb<5,>=4.0.1->GitPython>=1.0.0->wandb<0.13.0,>=0.10.0->allennlp<2.11,>=2.10.1->allennlp-models>=2.3->relatio) (5.0.0)\n",
      "Requirement already satisfied: googleapis-common-protos<2.0dev,>=1.52.0 in /Users/cerenbengucibik/opt/anaconda3/lib/python3.9/site-packages (from google-api-core<3.0dev,>=1.29.0->google-cloud-storage<3.0,>=1.32.0->cached-path<1.2.0,>=1.1.3->allennlp<2.11,>=2.10.1->allennlp-models>=2.3->relatio) (1.56.4)\n",
      "Requirement already satisfied: google-crc32c<2.0dev,>=1.0 in /Users/cerenbengucibik/opt/anaconda3/lib/python3.9/site-packages (from google-resumable-media<3.0dev,>=1.3.0->google-cloud-storage<3.0,>=1.32.0->cached-path<1.2.0,>=1.1.3->allennlp<2.11,>=2.10.1->allennlp-models>=2.3->relatio) (1.1.2)\n",
      "Requirement already satisfied: cffi>=1.0.0 in /Users/cerenbengucibik/opt/anaconda3/lib/python3.9/site-packages (from google-crc32c<2.0dev,>=1.0->google-resumable-media<3.0dev,>=1.3.0->google-cloud-storage<3.0,>=1.32.0->cached-path<1.2.0,>=1.1.3->allennlp<2.11,>=2.10.1->allennlp-models>=2.3->relatio) (1.14.6)\n",
      "Requirement already satisfied: pycparser in /Users/cerenbengucibik/opt/anaconda3/lib/python3.9/site-packages (from cffi>=1.0.0->google-crc32c<2.0dev,>=1.0->google-resumable-media<3.0dev,>=1.3.0->google-cloud-storage<3.0,>=1.32.0->cached-path<1.2.0,>=1.1.3->allennlp<2.11,>=2.10.1->allennlp-models>=2.3->relatio) (2.20)\n"
     ]
    }
   ],
   "source": [
    "!python -m pip install -U relatio"
   ]
  },
  {
   "cell_type": "code",
   "execution_count": 3,
   "id": "7e9ea367",
   "metadata": {},
   "outputs": [],
   "source": [
    "#!python -m pip install git+https://github.com/relatio-nlp/relatio"
   ]
  },
  {
   "cell_type": "code",
   "execution_count": 4,
   "id": "dba3b87a",
   "metadata": {},
   "outputs": [
    {
     "name": "stdout",
     "output_type": "stream",
     "text": [
      "2022-11-04 15:00:11.100417: I tensorflow/core/platform/cpu_feature_guard.cc:193] This TensorFlow binary is optimized with oneAPI Deep Neural Network Library (oneDNN) to use the following CPU instructions in performance-critical operations:  AVX2 FMA\n",
      "To enable them in other operations, rebuild TensorFlow with the appropriate compiler flags.\n",
      "Collecting en-core-web-sm==3.3.0\n",
      "  Downloading https://github.com/explosion/spacy-models/releases/download/en_core_web_sm-3.3.0/en_core_web_sm-3.3.0-py3-none-any.whl (12.8 MB)\n",
      "\u001b[2K     \u001b[90m━━━━━━━━━━━━━━━━━━━━━━━━━━━━━━━━━━━━━━━━\u001b[0m \u001b[32m12.8/12.8 MB\u001b[0m \u001b[31m2.2 MB/s\u001b[0m eta \u001b[36m0:00:00\u001b[0m00:01\u001b[0m00:01\u001b[0mm\n",
      "\u001b[?25hRequirement already satisfied: spacy<3.4.0,>=3.3.0.dev0 in /Users/cerenbengucibik/opt/anaconda3/lib/python3.9/site-packages (from en-core-web-sm==3.3.0) (3.3.1)\n",
      "Requirement already satisfied: pydantic!=1.8,!=1.8.1,<1.9.0,>=1.7.4 in /Users/cerenbengucibik/opt/anaconda3/lib/python3.9/site-packages (from spacy<3.4.0,>=3.3.0.dev0->en-core-web-sm==3.3.0) (1.8.2)\n",
      "Requirement already satisfied: tqdm<5.0.0,>=4.38.0 in /Users/cerenbengucibik/opt/anaconda3/lib/python3.9/site-packages (from spacy<3.4.0,>=3.3.0.dev0->en-core-web-sm==3.3.0) (4.62.3)\n",
      "Requirement already satisfied: requests<3.0.0,>=2.13.0 in /Users/cerenbengucibik/opt/anaconda3/lib/python3.9/site-packages (from spacy<3.4.0,>=3.3.0.dev0->en-core-web-sm==3.3.0) (2.28.1)\n",
      "Requirement already satisfied: jinja2 in /Users/cerenbengucibik/opt/anaconda3/lib/python3.9/site-packages (from spacy<3.4.0,>=3.3.0.dev0->en-core-web-sm==3.3.0) (2.11.3)\n",
      "Requirement already satisfied: blis<0.8.0,>=0.4.0 in /Users/cerenbengucibik/opt/anaconda3/lib/python3.9/site-packages (from spacy<3.4.0,>=3.3.0.dev0->en-core-web-sm==3.3.0) (0.7.8)\n",
      "Requirement already satisfied: cymem<2.1.0,>=2.0.2 in /Users/cerenbengucibik/opt/anaconda3/lib/python3.9/site-packages (from spacy<3.4.0,>=3.3.0.dev0->en-core-web-sm==3.3.0) (2.0.6)\n",
      "Requirement already satisfied: pathy>=0.3.5 in /Users/cerenbengucibik/opt/anaconda3/lib/python3.9/site-packages (from spacy<3.4.0,>=3.3.0.dev0->en-core-web-sm==3.3.0) (0.6.2)\n",
      "Requirement already satisfied: spacy-legacy<3.1.0,>=3.0.9 in /Users/cerenbengucibik/opt/anaconda3/lib/python3.9/site-packages (from spacy<3.4.0,>=3.3.0.dev0->en-core-web-sm==3.3.0) (3.0.10)\n",
      "Requirement already satisfied: srsly<3.0.0,>=2.4.3 in /Users/cerenbengucibik/opt/anaconda3/lib/python3.9/site-packages (from spacy<3.4.0,>=3.3.0.dev0->en-core-web-sm==3.3.0) (2.4.4)\n",
      "Requirement already satisfied: packaging>=20.0 in /Users/cerenbengucibik/opt/anaconda3/lib/python3.9/site-packages (from spacy<3.4.0,>=3.3.0.dev0->en-core-web-sm==3.3.0) (21.0)\n",
      "Requirement already satisfied: preshed<3.1.0,>=3.0.2 in /Users/cerenbengucibik/opt/anaconda3/lib/python3.9/site-packages (from spacy<3.4.0,>=3.3.0.dev0->en-core-web-sm==3.3.0) (3.0.7)\n",
      "Requirement already satisfied: spacy-loggers<2.0.0,>=1.0.0 in /Users/cerenbengucibik/opt/anaconda3/lib/python3.9/site-packages (from spacy<3.4.0,>=3.3.0.dev0->en-core-web-sm==3.3.0) (1.0.3)\n",
      "Requirement already satisfied: setuptools in /Users/cerenbengucibik/opt/anaconda3/lib/python3.9/site-packages (from spacy<3.4.0,>=3.3.0.dev0->en-core-web-sm==3.3.0) (65.5.0)\n",
      "Requirement already satisfied: langcodes<4.0.0,>=3.2.0 in /Users/cerenbengucibik/opt/anaconda3/lib/python3.9/site-packages (from spacy<3.4.0,>=3.3.0.dev0->en-core-web-sm==3.3.0) (3.3.0)\n",
      "Requirement already satisfied: typer<0.5.0,>=0.3.0 in /Users/cerenbengucibik/opt/anaconda3/lib/python3.9/site-packages (from spacy<3.4.0,>=3.3.0.dev0->en-core-web-sm==3.3.0) (0.4.2)\n",
      "Requirement already satisfied: murmurhash<1.1.0,>=0.28.0 in /Users/cerenbengucibik/opt/anaconda3/lib/python3.9/site-packages (from spacy<3.4.0,>=3.3.0.dev0->en-core-web-sm==3.3.0) (1.0.8)\n",
      "Requirement already satisfied: catalogue<2.1.0,>=2.0.6 in /Users/cerenbengucibik/opt/anaconda3/lib/python3.9/site-packages (from spacy<3.4.0,>=3.3.0.dev0->en-core-web-sm==3.3.0) (2.0.8)\n",
      "Requirement already satisfied: numpy>=1.15.0 in /Users/cerenbengucibik/opt/anaconda3/lib/python3.9/site-packages (from spacy<3.4.0,>=3.3.0.dev0->en-core-web-sm==3.3.0) (1.23.4)\n",
      "Requirement already satisfied: thinc<8.1.0,>=8.0.14 in /Users/cerenbengucibik/opt/anaconda3/lib/python3.9/site-packages (from spacy<3.4.0,>=3.3.0.dev0->en-core-web-sm==3.3.0) (8.0.17)\n",
      "Requirement already satisfied: wasabi<1.1.0,>=0.9.1 in /Users/cerenbengucibik/opt/anaconda3/lib/python3.9/site-packages (from spacy<3.4.0,>=3.3.0.dev0->en-core-web-sm==3.3.0) (0.10.1)\n",
      "Requirement already satisfied: pyparsing>=2.0.2 in /Users/cerenbengucibik/opt/anaconda3/lib/python3.9/site-packages (from packaging>=20.0->spacy<3.4.0,>=3.3.0.dev0->en-core-web-sm==3.3.0) (3.0.4)\n",
      "Requirement already satisfied: smart-open<6.0.0,>=5.2.1 in /Users/cerenbengucibik/opt/anaconda3/lib/python3.9/site-packages (from pathy>=0.3.5->spacy<3.4.0,>=3.3.0.dev0->en-core-web-sm==3.3.0) (5.2.1)\n",
      "Requirement already satisfied: typing-extensions>=3.7.4.3 in /Users/cerenbengucibik/opt/anaconda3/lib/python3.9/site-packages (from pydantic!=1.8,!=1.8.1,<1.9.0,>=1.7.4->spacy<3.4.0,>=3.3.0.dev0->en-core-web-sm==3.3.0) (3.10.0.2)\n",
      "Requirement already satisfied: idna<4,>=2.5 in /Users/cerenbengucibik/opt/anaconda3/lib/python3.9/site-packages (from requests<3.0.0,>=2.13.0->spacy<3.4.0,>=3.3.0.dev0->en-core-web-sm==3.3.0) (3.2)\n",
      "Requirement already satisfied: certifi>=2017.4.17 in /Users/cerenbengucibik/opt/anaconda3/lib/python3.9/site-packages (from requests<3.0.0,>=2.13.0->spacy<3.4.0,>=3.3.0.dev0->en-core-web-sm==3.3.0) (2022.9.24)\n",
      "Requirement already satisfied: charset-normalizer<3,>=2 in /Users/cerenbengucibik/opt/anaconda3/lib/python3.9/site-packages (from requests<3.0.0,>=2.13.0->spacy<3.4.0,>=3.3.0.dev0->en-core-web-sm==3.3.0) (2.0.4)\n",
      "Requirement already satisfied: urllib3<1.27,>=1.21.1 in /Users/cerenbengucibik/opt/anaconda3/lib/python3.9/site-packages (from requests<3.0.0,>=2.13.0->spacy<3.4.0,>=3.3.0.dev0->en-core-web-sm==3.3.0) (1.26.12)\n",
      "Requirement already satisfied: click<9.0.0,>=7.1.1 in /Users/cerenbengucibik/opt/anaconda3/lib/python3.9/site-packages (from typer<0.5.0,>=0.3.0->spacy<3.4.0,>=3.3.0.dev0->en-core-web-sm==3.3.0) (8.0.4)\n",
      "Requirement already satisfied: MarkupSafe>=0.23 in /Users/cerenbengucibik/opt/anaconda3/lib/python3.9/site-packages (from jinja2->spacy<3.4.0,>=3.3.0.dev0->en-core-web-sm==3.3.0) (1.1.1)\n",
      "Installing collected packages: en-core-web-sm\n",
      "  Attempting uninstall: en-core-web-sm\n",
      "    Found existing installation: en-core-web-sm 3.4.1\n",
      "    Uninstalling en-core-web-sm-3.4.1:\n",
      "      Successfully uninstalled en-core-web-sm-3.4.1\n",
      "Successfully installed en-core-web-sm-3.3.0\n",
      "\u001b[38;5;2m✔ Download and installation successful\u001b[0m\n",
      "You can now load the package via spacy.load('en_core_web_sm')\n"
     ]
    }
   ],
   "source": [
    "!python -m spacy download en_core_web_sm"
   ]
  },
  {
   "cell_type": "code",
   "execution_count": 5,
   "id": "4d38cc6b",
   "metadata": {},
   "outputs": [
    {
     "name": "stdout",
     "output_type": "stream",
     "text": [
      "/Users/cerenbengucibik/opt/anaconda3/lib/python3.9/runpy.py:127: RuntimeWarning: 'nltk.downloader' found in sys.modules after import of package 'nltk', but prior to execution of 'nltk.downloader'; this may result in unpredictable behaviour\n",
      "  warn(RuntimeWarning(msg))\n",
      "[nltk_data] Downloading package punkt to\n",
      "[nltk_data]     /Users/cerenbengucibik/nltk_data...\n",
      "[nltk_data]   Package punkt is already up-to-date!\n",
      "[nltk_data] Downloading package wordnet to\n",
      "[nltk_data]     /Users/cerenbengucibik/nltk_data...\n",
      "[nltk_data]   Package wordnet is already up-to-date!\n",
      "[nltk_data] Downloading package stopwords to\n",
      "[nltk_data]     /Users/cerenbengucibik/nltk_data...\n",
      "[nltk_data]   Package stopwords is already up-to-date!\n",
      "[nltk_data] Downloading package averaged_perceptron_tagger to\n",
      "[nltk_data]     /Users/cerenbengucibik/nltk_data...\n",
      "[nltk_data]   Package averaged_perceptron_tagger is already up-to-\n",
      "[nltk_data]       date!\n"
     ]
    }
   ],
   "source": [
    "!python -m nltk.downloader punkt wordnet stopwords averaged_perceptron_tagger"
   ]
  },
  {
   "cell_type": "code",
   "execution_count": 6,
   "id": "84db5ae4",
   "metadata": {},
   "outputs": [],
   "source": [
    "import pandas as pd\n",
    "from io import StringIO"
   ]
  },
  {
   "cell_type": "code",
   "execution_count": 7,
   "id": "de3bd82d",
   "metadata": {},
   "outputs": [],
   "source": [
    "docs = pd.read_excel('./switchornot_data2.xlsx')"
   ]
  },
  {
   "cell_type": "code",
   "execution_count": 8,
   "id": "fc8b83da",
   "metadata": {},
   "outputs": [
    {
     "data": {
      "text/html": [
       "<div>\n",
       "<style scoped>\n",
       "    .dataframe tbody tr th:only-of-type {\n",
       "        vertical-align: middle;\n",
       "    }\n",
       "\n",
       "    .dataframe tbody tr th {\n",
       "        vertical-align: top;\n",
       "    }\n",
       "\n",
       "    .dataframe thead th {\n",
       "        text-align: right;\n",
       "    }\n",
       "</style>\n",
       "<table border=\"1\" class=\"dataframe\">\n",
       "  <thead>\n",
       "    <tr style=\"text-align: right;\">\n",
       "      <th></th>\n",
       "      <th>id</th>\n",
       "      <th>doc</th>\n",
       "    </tr>\n",
       "  </thead>\n",
       "  <tbody>\n",
       "    <tr>\n",
       "      <th>0</th>\n",
       "      <td>611081f304a53746cf045008</td>\n",
       "      <td>I wanted to read about the opposing viewpoint</td>\n",
       "    </tr>\n",
       "    <tr>\n",
       "      <th>1</th>\n",
       "      <td>6101f59665944257ce1e789e</td>\n",
       "      <td>I did not switch because I would rather have a...</td>\n",
       "    </tr>\n",
       "    <tr>\n",
       "      <th>2</th>\n",
       "      <td>5739549114f69e00067becd8</td>\n",
       "      <td>I chose to switch if it did not cost me much (...</td>\n",
       "    </tr>\n",
       "    <tr>\n",
       "      <th>3</th>\n",
       "      <td>5712a503ba4da20011c0132f</td>\n",
       "      <td>I didnt really care one way or another</td>\n",
       "    </tr>\n",
       "    <tr>\n",
       "      <th>4</th>\n",
       "      <td>5efca939634adc0710e3ecab</td>\n",
       "      <td>I figured that this task was written to be bor...</td>\n",
       "    </tr>\n",
       "    <tr>\n",
       "      <th>...</th>\n",
       "      <td>...</td>\n",
       "      <td>...</td>\n",
       "    </tr>\n",
       "    <tr>\n",
       "      <th>995</th>\n",
       "      <td>62ad31a360f86efd289103ec</td>\n",
       "      <td>I wanted to give it a fair try. I am intereste...</td>\n",
       "    </tr>\n",
       "    <tr>\n",
       "      <th>996</th>\n",
       "      <td>5ed2bb7a67d51b24b2ac4037</td>\n",
       "      <td>I am fatigued having to read another piece of ...</td>\n",
       "    </tr>\n",
       "    <tr>\n",
       "      <th>997</th>\n",
       "      <td>5f053720c017078437e04818</td>\n",
       "      <td>I am always open to learning and seeing if my ...</td>\n",
       "    </tr>\n",
       "    <tr>\n",
       "      <th>998</th>\n",
       "      <td>5a693e48c0d8360001082fda</td>\n",
       "      <td>it was pointless</td>\n",
       "    </tr>\n",
       "    <tr>\n",
       "      <th>999</th>\n",
       "      <td>62ec1607cf0be424ae3e29d1</td>\n",
       "      <td>Because I wanted to learn more arguments that ...</td>\n",
       "    </tr>\n",
       "  </tbody>\n",
       "</table>\n",
       "<p>1000 rows × 2 columns</p>\n",
       "</div>"
      ],
      "text/plain": [
       "                           id  \\\n",
       "0    611081f304a53746cf045008   \n",
       "1    6101f59665944257ce1e789e   \n",
       "2    5739549114f69e00067becd8   \n",
       "3    5712a503ba4da20011c0132f   \n",
       "4    5efca939634adc0710e3ecab   \n",
       "..                        ...   \n",
       "995  62ad31a360f86efd289103ec   \n",
       "996  5ed2bb7a67d51b24b2ac4037   \n",
       "997  5f053720c017078437e04818   \n",
       "998  5a693e48c0d8360001082fda   \n",
       "999  62ec1607cf0be424ae3e29d1   \n",
       "\n",
       "                                                   doc  \n",
       "0        I wanted to read about the opposing viewpoint  \n",
       "1    I did not switch because I would rather have a...  \n",
       "2    I chose to switch if it did not cost me much (...  \n",
       "3               I didnt really care one way or another  \n",
       "4    I figured that this task was written to be bor...  \n",
       "..                                                 ...  \n",
       "995  I wanted to give it a fair try. I am intereste...  \n",
       "996  I am fatigued having to read another piece of ...  \n",
       "997  I am always open to learning and seeing if my ...  \n",
       "998                                   it was pointless  \n",
       "999  Because I wanted to learn more arguments that ...  \n",
       "\n",
       "[1000 rows x 2 columns]"
      ]
     },
     "execution_count": 8,
     "metadata": {},
     "output_type": "execute_result"
    }
   ],
   "source": [
    "docs"
   ]
  },
  {
   "cell_type": "code",
   "execution_count": 9,
   "id": "cd8af79c",
   "metadata": {
    "scrolled": true
   },
   "outputs": [
    {
     "name": "stderr",
     "output_type": "stream",
     "text": [
      "2022-11-04 15:05:16.178450: I tensorflow/core/platform/cpu_feature_guard.cc:193] This TensorFlow binary is optimized with oneAPI Deep Neural Network Library (oneDNN) to use the following CPU instructions in performance-critical operations:  AVX2 FMA\n",
      "To enable them in other operations, rebuild TensorFlow with the appropriate compiler flags.\n"
     ]
    },
    {
     "name": "stdout",
     "output_type": "stream",
     "text": [
      "Splitting into sentences...\n"
     ]
    },
    {
     "name": "stderr",
     "output_type": "stream",
     "text": [
      "100%|██████████████████████████████████████| 1000/1000 [00:08<00:00, 123.70it/s]"
     ]
    },
    {
     "name": "stdout",
     "output_type": "stream",
     "text": [
      "Document id: 611081f304a53746cf045008\n",
      "Sentence: I wanted to read about the opposing viewpoint \n",
      "\n",
      "Document id: 6101f59665944257ce1e789e\n",
      "Sentence: I did not switch because I would rather have a higher payout even if it meant I would be confronted with opposing belief's than my own \n",
      "\n",
      "Document id: 5739549114f69e00067becd8\n",
      "Sentence: I chose to switch if it did not cost me much (20% of pot) \n",
      "\n",
      "Document id: 5712a503ba4da20011c0132f\n",
      "Sentence: I didnt really care one way or another \n",
      "\n",
      "Document id: 5efca939634adc0710e3ecab\n",
      "Sentence: I figured that this task was written to be boring and \"triggering\" enough to get me to switch \n",
      "\n"
     ]
    },
    {
     "name": "stderr",
     "output_type": "stream",
     "text": [
      "\n"
     ]
    }
   ],
   "source": [
    "# use 250 tweets for the demo\n",
    "#docs250 = docs.iloc[:250]\n",
    "\n",
    "# Split into sentences \n",
    "from relatio.utils import split_into_sentences\n",
    "\n",
    "split_sentences = split_into_sentences(\n",
    "    docs, output_path=None, progress_bar=True\n",
    ")\n",
    "\n",
    "for i in range(5):\n",
    "    print('Document id: %s' %split_sentences[0][i])\n",
    "    print('Sentence: %s \\n' %split_sentences[1][i])"
   ]
  },
  {
   "cell_type": "code",
   "execution_count": 10,
   "id": "0973ca3e",
   "metadata": {},
   "outputs": [],
   "source": [
    "# what the split sentences look like (doc id is tracked)\n",
    "#split_sentences[1][:5]"
   ]
  },
  {
   "cell_type": "code",
   "execution_count": 11,
   "id": "178ef438",
   "metadata": {},
   "outputs": [
    {
     "name": "stdout",
     "output_type": "stream",
     "text": [
      "Running SRL...\n"
     ]
    },
    {
     "name": "stderr",
     "output_type": "stream",
     "text": [
      "100%|█████████████████████████████████████████████| 6/6 [01:33<00:00, 15.53s/it]\n"
     ]
    }
   ],
   "source": [
    "# Run Semantic Role Labeling \n",
    "\n",
    "from relatio.wrappers import run_srl\n",
    "\n",
    "srl_res = run_srl(\n",
    "    path=\"https://storage.googleapis.com/allennlp-public-models/openie-model.2020.03.26.tar.gz\",\n",
    "    sentences=split_sentences[1],\n",
    "    output_path=None,\n",
    "    progress_bar=True,\n",
    ")"
   ]
  },
  {
   "cell_type": "code",
   "execution_count": 12,
   "id": "33b7f23e",
   "metadata": {},
   "outputs": [
    {
     "data": {
      "text/plain": [
       "{'verbs': [{'verb': 'wanted',\n",
       "   'description': '[ARG0: I] [V: wanted] [ARG1: to read about the opposing viewpoint]',\n",
       "   'tags': ['B-ARG0',\n",
       "    'B-V',\n",
       "    'B-ARG1',\n",
       "    'I-ARG1',\n",
       "    'I-ARG1',\n",
       "    'I-ARG1',\n",
       "    'I-ARG1',\n",
       "    'I-ARG1']},\n",
       "  {'verb': 'read',\n",
       "   'description': '[ARG0: I] wanted to [V: read] [ARG1: about the opposing viewpoint]',\n",
       "   'tags': ['B-ARG0',\n",
       "    'O',\n",
       "    'O',\n",
       "    'B-V',\n",
       "    'B-ARG1',\n",
       "    'I-ARG1',\n",
       "    'I-ARG1',\n",
       "    'I-ARG1']},\n",
       "  {'verb': 'opposing',\n",
       "   'description': 'I wanted to read about the [V: opposing] [ARG0: viewpoint]',\n",
       "   'tags': ['O', 'O', 'O', 'O', 'O', 'O', 'B-V', 'B-ARG0']}],\n",
       " 'words': ['I',\n",
       "  'wanted',\n",
       "  'to',\n",
       "  'read',\n",
       "  'about',\n",
       "  'the',\n",
       "  'opposing',\n",
       "  'viewpoint']}"
      ]
     },
     "execution_count": 12,
     "metadata": {},
     "output_type": "execute_result"
    }
   ],
   "source": [
    "# Example SRL output\n",
    "srl_res[0]"
   ]
  },
  {
   "cell_type": "code",
   "execution_count": 14,
   "id": "f50939b3",
   "metadata": {},
   "outputs": [],
   "source": [
    "#import numpy \n",
    "#numpy.__version__ \n",
    "#'1.21.4' "
   ]
  },
  {
   "cell_type": "code",
   "execution_count": 15,
   "id": "ce9e0efa",
   "metadata": {},
   "outputs": [],
   "source": [
    "import spacy\n",
    "spacy_stopwords = spacy.lang.en.stop_words.STOP_WORDS"
   ]
  },
  {
   "cell_type": "code",
   "execution_count": 16,
   "id": "2e7d9a4e",
   "metadata": {
    "scrolled": true
   },
   "outputs": [
    {
     "name": "stdout",
     "output_type": "stream",
     "text": [
      "Processing SRL...\n"
     ]
    },
    {
     "name": "stderr",
     "output_type": "stream",
     "text": [
      "100%|█████████████████████████████████████| 1548/1548 [00:00<00:00, 6676.81it/s]\n"
     ]
    },
    {
     "name": "stdout",
     "output_type": "stream",
     "text": [
      "Cleaning SRL...\n"
     ]
    },
    {
     "name": "stderr",
     "output_type": "stream",
     "text": [
      "100%|██████████████████████████████████████| 5984/5984 [00:12<00:00, 490.26it/s]\n"
     ]
    },
    {
     "name": "stdout",
     "output_type": "stream",
     "text": [
      "Computing role frequencies...\n"
     ]
    },
    {
     "name": "stderr",
     "output_type": "stream",
     "text": [
      "100%|███████████████████████████████████| 5984/5984 [00:00<00:00, 560414.31it/s]\n"
     ]
    },
    {
     "name": "stdout",
     "output_type": "stream",
     "text": [
      "Mining named entities...\n"
     ]
    },
    {
     "name": "stderr",
     "output_type": "stream",
     "text": [
      "100%|███████████████████████████████████████| 1548/1548 [00:22<00:00, 69.91it/s]\n"
     ]
    },
    {
     "name": "stdout",
     "output_type": "stream",
     "text": [
      "Mapping named entities...\n"
     ]
    },
    {
     "name": "stderr",
     "output_type": "stream",
     "text": [
      "100%|████████████████████████████████████| 5984/5984 [00:00<00:00, 25560.65it/s]\n"
     ]
    },
    {
     "name": "stdout",
     "output_type": "stream",
     "text": [
      "Loading embeddings model...\n"
     ]
    },
    {
     "ename": "AttributeError",
     "evalue": "'NoneType' object has no attribute 'split'",
     "output_type": "error",
     "traceback": [
      "\u001b[0;31m---------------------------------------------------------------------------\u001b[0m",
      "\u001b[0;31mAttributeError\u001b[0m                            Traceback (most recent call last)",
      "\u001b[0;32m/var/folders/dk/b678nxbd2c3284pywzzqqjf80000gn/T/ipykernel_76391/3771644024.py\u001b[0m in \u001b[0;36m<module>\u001b[0;34m\u001b[0m\n\u001b[1;32m      3\u001b[0m \u001b[0;32mfrom\u001b[0m \u001b[0mrelatio\u001b[0m\u001b[0;34m.\u001b[0m\u001b[0mwrappers\u001b[0m \u001b[0;32mimport\u001b[0m \u001b[0mbuild_narrative_model\u001b[0m\u001b[0;34m\u001b[0m\u001b[0;34m\u001b[0m\u001b[0m\n\u001b[1;32m      4\u001b[0m \u001b[0;34m\u001b[0m\u001b[0m\n\u001b[0;32m----> 5\u001b[0;31m narrative_model = build_narrative_model(\n\u001b[0m\u001b[1;32m      6\u001b[0m     \u001b[0msrl_res\u001b[0m\u001b[0;34m=\u001b[0m\u001b[0msrl_res\u001b[0m\u001b[0;34m,\u001b[0m\u001b[0;34m\u001b[0m\u001b[0;34m\u001b[0m\u001b[0m\n\u001b[1;32m      7\u001b[0m     \u001b[0msentences\u001b[0m\u001b[0;34m=\u001b[0m\u001b[0msplit_sentences\u001b[0m\u001b[0;34m[\u001b[0m\u001b[0;36m1\u001b[0m\u001b[0;34m]\u001b[0m\u001b[0;34m,\u001b[0m  \u001b[0;31m# list of sentences\u001b[0m\u001b[0;34m\u001b[0m\u001b[0;34m\u001b[0m\u001b[0m\n",
      "\u001b[0;32m~/opt/anaconda3/lib/python3.9/site-packages/relatio/wrappers.py\u001b[0m in \u001b[0;36mbuild_narrative_model\u001b[0;34m(srl_res, sentences, roles_considered, output_path, max_length, remove_punctuation, remove_digits, remove_chars, stop_words, lowercase, strip, remove_whitespaces, lemmatize, stem, tags_to_keep, remove_n_letter_words, roles_with_embeddings, embeddings_type, embeddings_path, n_clusters, verbose, random_state, roles_with_entities, ent_labels, top_n_entities, dimension_reduce_verbs, progress_bar)\u001b[0m\n\u001b[1;32m    355\u001b[0m                         \u001b[0mkmeans\u001b[0m \u001b[0;34m=\u001b[0m \u001b[0mpk\u001b[0m\u001b[0;34m.\u001b[0m\u001b[0mload\u001b[0m\u001b[0;34m(\u001b[0m\u001b[0mf\u001b[0m\u001b[0;34m)\u001b[0m\u001b[0;34m\u001b[0m\u001b[0;34m\u001b[0m\u001b[0m\n\u001b[1;32m    356\u001b[0m                 \u001b[0;32melse\u001b[0m\u001b[0;34m:\u001b[0m\u001b[0;34m\u001b[0m\u001b[0;34m\u001b[0m\u001b[0m\n\u001b[0;32m--> 357\u001b[0;31m                     kmeans = train_cluster_model(\n\u001b[0m\u001b[1;32m    358\u001b[0m                         \u001b[0mvecs\u001b[0m\u001b[0;34m,\u001b[0m\u001b[0;34m\u001b[0m\u001b[0;34m\u001b[0m\u001b[0m\n\u001b[1;32m    359\u001b[0m                         \u001b[0mmodel\u001b[0m\u001b[0;34m,\u001b[0m\u001b[0;34m\u001b[0m\u001b[0;34m\u001b[0m\u001b[0m\n",
      "\u001b[0;32m~/opt/anaconda3/lib/python3.9/site-packages/relatio/clustering.py\u001b[0m in \u001b[0;36mtrain_cluster_model\u001b[0;34m(vecs, model, n_clusters, random_state, verbose)\u001b[0m\n\u001b[1;32m    238\u001b[0m     \"\"\"\n\u001b[1;32m    239\u001b[0m \u001b[0;34m\u001b[0m\u001b[0m\n\u001b[0;32m--> 240\u001b[0;31m     kmeans = KMeans(\n\u001b[0m\u001b[1;32m    241\u001b[0m         \u001b[0mn_clusters\u001b[0m\u001b[0;34m=\u001b[0m\u001b[0mn_clusters\u001b[0m\u001b[0;34m,\u001b[0m \u001b[0mrandom_state\u001b[0m\u001b[0;34m=\u001b[0m\u001b[0mrandom_state\u001b[0m\u001b[0;34m,\u001b[0m \u001b[0mverbose\u001b[0m\u001b[0;34m=\u001b[0m\u001b[0mverbose\u001b[0m\u001b[0;34m\u001b[0m\u001b[0;34m\u001b[0m\u001b[0m\n\u001b[1;32m    242\u001b[0m     ).fit(vecs)\n",
      "\u001b[0;32m~/opt/anaconda3/lib/python3.9/site-packages/sklearn/cluster/_kmeans.py\u001b[0m in \u001b[0;36mfit\u001b[0;34m(self, X, y, sample_weight)\u001b[0m\n\u001b[1;32m   1415\u001b[0m \u001b[0;34m\u001b[0m\u001b[0m\n\u001b[1;32m   1416\u001b[0m             \u001b[0;31m# run a k-means once\u001b[0m\u001b[0;34m\u001b[0m\u001b[0;34m\u001b[0m\u001b[0m\n\u001b[0;32m-> 1417\u001b[0;31m             labels, inertia, centers, n_iter_ = kmeans_single(\n\u001b[0m\u001b[1;32m   1418\u001b[0m                 \u001b[0mX\u001b[0m\u001b[0;34m,\u001b[0m\u001b[0;34m\u001b[0m\u001b[0;34m\u001b[0m\u001b[0m\n\u001b[1;32m   1419\u001b[0m                 \u001b[0msample_weight\u001b[0m\u001b[0;34m,\u001b[0m\u001b[0;34m\u001b[0m\u001b[0;34m\u001b[0m\u001b[0m\n",
      "\u001b[0;32m~/opt/anaconda3/lib/python3.9/site-packages/sklearn/cluster/_kmeans.py\u001b[0m in \u001b[0;36m_kmeans_single_lloyd\u001b[0;34m(X, sample_weight, centers_init, max_iter, verbose, x_squared_norms, tol, n_threads)\u001b[0m\n\u001b[1;32m    644\u001b[0m     \u001b[0;31m# Threadpoolctl context to limit the number of threads in second level of\u001b[0m\u001b[0;34m\u001b[0m\u001b[0;34m\u001b[0m\u001b[0m\n\u001b[1;32m    645\u001b[0m     \u001b[0;31m# nested parallelism (i.e. BLAS) to avoid oversubscription.\u001b[0m\u001b[0;34m\u001b[0m\u001b[0;34m\u001b[0m\u001b[0m\n\u001b[0;32m--> 646\u001b[0;31m     \u001b[0;32mwith\u001b[0m \u001b[0mthreadpool_limits\u001b[0m\u001b[0;34m(\u001b[0m\u001b[0mlimits\u001b[0m\u001b[0;34m=\u001b[0m\u001b[0;36m1\u001b[0m\u001b[0;34m,\u001b[0m \u001b[0muser_api\u001b[0m\u001b[0;34m=\u001b[0m\u001b[0;34m\"blas\"\u001b[0m\u001b[0;34m)\u001b[0m\u001b[0;34m:\u001b[0m\u001b[0;34m\u001b[0m\u001b[0;34m\u001b[0m\u001b[0m\n\u001b[0m\u001b[1;32m    647\u001b[0m         \u001b[0;32mfor\u001b[0m \u001b[0mi\u001b[0m \u001b[0;32min\u001b[0m \u001b[0mrange\u001b[0m\u001b[0;34m(\u001b[0m\u001b[0mmax_iter\u001b[0m\u001b[0;34m)\u001b[0m\u001b[0;34m:\u001b[0m\u001b[0;34m\u001b[0m\u001b[0;34m\u001b[0m\u001b[0m\n\u001b[1;32m    648\u001b[0m             lloyd_iter(\n",
      "\u001b[0;32m~/opt/anaconda3/lib/python3.9/site-packages/sklearn/utils/fixes.py\u001b[0m in \u001b[0;36mthreadpool_limits\u001b[0;34m(limits, user_api)\u001b[0m\n\u001b[1;32m    149\u001b[0m         \u001b[0;32mreturn\u001b[0m \u001b[0mcontroller\u001b[0m\u001b[0;34m.\u001b[0m\u001b[0mlimit\u001b[0m\u001b[0;34m(\u001b[0m\u001b[0mlimits\u001b[0m\u001b[0;34m=\u001b[0m\u001b[0mlimits\u001b[0m\u001b[0;34m,\u001b[0m \u001b[0muser_api\u001b[0m\u001b[0;34m=\u001b[0m\u001b[0muser_api\u001b[0m\u001b[0;34m)\u001b[0m\u001b[0;34m\u001b[0m\u001b[0;34m\u001b[0m\u001b[0m\n\u001b[1;32m    150\u001b[0m     \u001b[0;32melse\u001b[0m\u001b[0;34m:\u001b[0m\u001b[0;34m\u001b[0m\u001b[0;34m\u001b[0m\u001b[0m\n\u001b[0;32m--> 151\u001b[0;31m         \u001b[0;32mreturn\u001b[0m \u001b[0mthreadpoolctl\u001b[0m\u001b[0;34m.\u001b[0m\u001b[0mthreadpool_limits\u001b[0m\u001b[0;34m(\u001b[0m\u001b[0mlimits\u001b[0m\u001b[0;34m=\u001b[0m\u001b[0mlimits\u001b[0m\u001b[0;34m,\u001b[0m \u001b[0muser_api\u001b[0m\u001b[0;34m=\u001b[0m\u001b[0muser_api\u001b[0m\u001b[0;34m)\u001b[0m\u001b[0;34m\u001b[0m\u001b[0;34m\u001b[0m\u001b[0m\n\u001b[0m\u001b[1;32m    152\u001b[0m \u001b[0;34m\u001b[0m\u001b[0m\n\u001b[1;32m    153\u001b[0m \u001b[0;34m\u001b[0m\u001b[0m\n",
      "\u001b[0;32m~/opt/anaconda3/lib/python3.9/site-packages/threadpoolctl.py\u001b[0m in \u001b[0;36m__init__\u001b[0;34m(self, limits, user_api)\u001b[0m\n\u001b[1;32m    169\u001b[0m             \u001b[0mself\u001b[0m\u001b[0;34m.\u001b[0m\u001b[0m_check_params\u001b[0m\u001b[0;34m(\u001b[0m\u001b[0mlimits\u001b[0m\u001b[0;34m,\u001b[0m \u001b[0muser_api\u001b[0m\u001b[0;34m)\u001b[0m\u001b[0;34m\u001b[0m\u001b[0;34m\u001b[0m\u001b[0m\n\u001b[1;32m    170\u001b[0m \u001b[0;34m\u001b[0m\u001b[0m\n\u001b[0;32m--> 171\u001b[0;31m         \u001b[0mself\u001b[0m\u001b[0;34m.\u001b[0m\u001b[0m_original_info\u001b[0m \u001b[0;34m=\u001b[0m \u001b[0mself\u001b[0m\u001b[0;34m.\u001b[0m\u001b[0m_set_threadpool_limits\u001b[0m\u001b[0;34m(\u001b[0m\u001b[0;34m)\u001b[0m\u001b[0;34m\u001b[0m\u001b[0;34m\u001b[0m\u001b[0m\n\u001b[0m\u001b[1;32m    172\u001b[0m \u001b[0;34m\u001b[0m\u001b[0m\n\u001b[1;32m    173\u001b[0m     \u001b[0;32mdef\u001b[0m \u001b[0m__enter__\u001b[0m\u001b[0;34m(\u001b[0m\u001b[0mself\u001b[0m\u001b[0;34m)\u001b[0m\u001b[0;34m:\u001b[0m\u001b[0;34m\u001b[0m\u001b[0;34m\u001b[0m\u001b[0m\n",
      "\u001b[0;32m~/opt/anaconda3/lib/python3.9/site-packages/threadpoolctl.py\u001b[0m in \u001b[0;36m_set_threadpool_limits\u001b[0;34m(self)\u001b[0m\n\u001b[1;32m    266\u001b[0m             \u001b[0;32mreturn\u001b[0m \u001b[0;32mNone\u001b[0m\u001b[0;34m\u001b[0m\u001b[0;34m\u001b[0m\u001b[0m\n\u001b[1;32m    267\u001b[0m \u001b[0;34m\u001b[0m\u001b[0m\n\u001b[0;32m--> 268\u001b[0;31m         modules = _ThreadpoolInfo(prefixes=self._prefixes,\n\u001b[0m\u001b[1;32m    269\u001b[0m                                   user_api=self._user_api)\n\u001b[1;32m    270\u001b[0m         \u001b[0;32mfor\u001b[0m \u001b[0mmodule\u001b[0m \u001b[0;32min\u001b[0m \u001b[0mmodules\u001b[0m\u001b[0;34m:\u001b[0m\u001b[0;34m\u001b[0m\u001b[0;34m\u001b[0m\u001b[0m\n",
      "\u001b[0;32m~/opt/anaconda3/lib/python3.9/site-packages/threadpoolctl.py\u001b[0m in \u001b[0;36m__init__\u001b[0;34m(self, user_api, prefixes, modules)\u001b[0m\n\u001b[1;32m    338\u001b[0m \u001b[0;34m\u001b[0m\u001b[0m\n\u001b[1;32m    339\u001b[0m             \u001b[0mself\u001b[0m\u001b[0;34m.\u001b[0m\u001b[0mmodules\u001b[0m \u001b[0;34m=\u001b[0m \u001b[0;34m[\u001b[0m\u001b[0;34m]\u001b[0m\u001b[0;34m\u001b[0m\u001b[0;34m\u001b[0m\u001b[0m\n\u001b[0;32m--> 340\u001b[0;31m             \u001b[0mself\u001b[0m\u001b[0;34m.\u001b[0m\u001b[0m_load_modules\u001b[0m\u001b[0;34m(\u001b[0m\u001b[0;34m)\u001b[0m\u001b[0;34m\u001b[0m\u001b[0;34m\u001b[0m\u001b[0m\n\u001b[0m\u001b[1;32m    341\u001b[0m             \u001b[0mself\u001b[0m\u001b[0;34m.\u001b[0m\u001b[0m_warn_if_incompatible_openmp\u001b[0m\u001b[0;34m(\u001b[0m\u001b[0;34m)\u001b[0m\u001b[0;34m\u001b[0m\u001b[0;34m\u001b[0m\u001b[0m\n\u001b[1;32m    342\u001b[0m         \u001b[0;32melse\u001b[0m\u001b[0;34m:\u001b[0m\u001b[0;34m\u001b[0m\u001b[0;34m\u001b[0m\u001b[0m\n",
      "\u001b[0;32m~/opt/anaconda3/lib/python3.9/site-packages/threadpoolctl.py\u001b[0m in \u001b[0;36m_load_modules\u001b[0;34m(self)\u001b[0m\n\u001b[1;32m    369\u001b[0m         \u001b[0;34m\"\"\"Loop through loaded libraries and store supported ones\"\"\"\u001b[0m\u001b[0;34m\u001b[0m\u001b[0;34m\u001b[0m\u001b[0m\n\u001b[1;32m    370\u001b[0m         \u001b[0;32mif\u001b[0m \u001b[0msys\u001b[0m\u001b[0;34m.\u001b[0m\u001b[0mplatform\u001b[0m \u001b[0;34m==\u001b[0m \u001b[0;34m\"darwin\"\u001b[0m\u001b[0;34m:\u001b[0m\u001b[0;34m\u001b[0m\u001b[0;34m\u001b[0m\u001b[0m\n\u001b[0;32m--> 371\u001b[0;31m             \u001b[0mself\u001b[0m\u001b[0;34m.\u001b[0m\u001b[0m_find_modules_with_dyld\u001b[0m\u001b[0;34m(\u001b[0m\u001b[0;34m)\u001b[0m\u001b[0;34m\u001b[0m\u001b[0;34m\u001b[0m\u001b[0m\n\u001b[0m\u001b[1;32m    372\u001b[0m         \u001b[0;32melif\u001b[0m \u001b[0msys\u001b[0m\u001b[0;34m.\u001b[0m\u001b[0mplatform\u001b[0m \u001b[0;34m==\u001b[0m \u001b[0;34m\"win32\"\u001b[0m\u001b[0;34m:\u001b[0m\u001b[0;34m\u001b[0m\u001b[0;34m\u001b[0m\u001b[0m\n\u001b[1;32m    373\u001b[0m             \u001b[0mself\u001b[0m\u001b[0;34m.\u001b[0m\u001b[0m_find_modules_with_enum_process_module_ex\u001b[0m\u001b[0;34m(\u001b[0m\u001b[0;34m)\u001b[0m\u001b[0;34m\u001b[0m\u001b[0;34m\u001b[0m\u001b[0m\n",
      "\u001b[0;32m~/opt/anaconda3/lib/python3.9/site-packages/threadpoolctl.py\u001b[0m in \u001b[0;36m_find_modules_with_dyld\u001b[0;34m(self)\u001b[0m\n\u001b[1;32m    426\u001b[0m \u001b[0;34m\u001b[0m\u001b[0m\n\u001b[1;32m    427\u001b[0m             \u001b[0;31m# Store the module if it is supported and selected\u001b[0m\u001b[0;34m\u001b[0m\u001b[0;34m\u001b[0m\u001b[0m\n\u001b[0;32m--> 428\u001b[0;31m             \u001b[0mself\u001b[0m\u001b[0;34m.\u001b[0m\u001b[0m_make_module_from_path\u001b[0m\u001b[0;34m(\u001b[0m\u001b[0mfilepath\u001b[0m\u001b[0;34m)\u001b[0m\u001b[0;34m\u001b[0m\u001b[0;34m\u001b[0m\u001b[0m\n\u001b[0m\u001b[1;32m    429\u001b[0m \u001b[0;34m\u001b[0m\u001b[0m\n\u001b[1;32m    430\u001b[0m     \u001b[0;32mdef\u001b[0m \u001b[0m_find_modules_with_enum_process_module_ex\u001b[0m\u001b[0;34m(\u001b[0m\u001b[0mself\u001b[0m\u001b[0;34m)\u001b[0m\u001b[0;34m:\u001b[0m\u001b[0;34m\u001b[0m\u001b[0;34m\u001b[0m\u001b[0m\n",
      "\u001b[0;32m~/opt/anaconda3/lib/python3.9/site-packages/threadpoolctl.py\u001b[0m in \u001b[0;36m_make_module_from_path\u001b[0;34m(self, filepath)\u001b[0m\n\u001b[1;32m    513\u001b[0m             \u001b[0;32mif\u001b[0m \u001b[0mprefix\u001b[0m \u001b[0;32min\u001b[0m \u001b[0mself\u001b[0m\u001b[0;34m.\u001b[0m\u001b[0mprefixes\u001b[0m \u001b[0;32mor\u001b[0m \u001b[0muser_api\u001b[0m \u001b[0;32min\u001b[0m \u001b[0mself\u001b[0m\u001b[0;34m.\u001b[0m\u001b[0muser_api\u001b[0m\u001b[0;34m:\u001b[0m\u001b[0;34m\u001b[0m\u001b[0;34m\u001b[0m\u001b[0m\n\u001b[1;32m    514\u001b[0m                 \u001b[0mmodule_class\u001b[0m \u001b[0;34m=\u001b[0m \u001b[0mglobals\u001b[0m\u001b[0;34m(\u001b[0m\u001b[0;34m)\u001b[0m\u001b[0;34m[\u001b[0m\u001b[0mmodule_class\u001b[0m\u001b[0;34m]\u001b[0m\u001b[0;34m\u001b[0m\u001b[0;34m\u001b[0m\u001b[0m\n\u001b[0;32m--> 515\u001b[0;31m                 \u001b[0mmodule\u001b[0m \u001b[0;34m=\u001b[0m \u001b[0mmodule_class\u001b[0m\u001b[0;34m(\u001b[0m\u001b[0mfilepath\u001b[0m\u001b[0;34m,\u001b[0m \u001b[0mprefix\u001b[0m\u001b[0;34m,\u001b[0m \u001b[0muser_api\u001b[0m\u001b[0;34m,\u001b[0m \u001b[0minternal_api\u001b[0m\u001b[0;34m)\u001b[0m\u001b[0;34m\u001b[0m\u001b[0;34m\u001b[0m\u001b[0m\n\u001b[0m\u001b[1;32m    516\u001b[0m                 \u001b[0mself\u001b[0m\u001b[0;34m.\u001b[0m\u001b[0mmodules\u001b[0m\u001b[0;34m.\u001b[0m\u001b[0mappend\u001b[0m\u001b[0;34m(\u001b[0m\u001b[0mmodule\u001b[0m\u001b[0;34m)\u001b[0m\u001b[0;34m\u001b[0m\u001b[0;34m\u001b[0m\u001b[0m\n\u001b[1;32m    517\u001b[0m \u001b[0;34m\u001b[0m\u001b[0m\n",
      "\u001b[0;32m~/opt/anaconda3/lib/python3.9/site-packages/threadpoolctl.py\u001b[0m in \u001b[0;36m__init__\u001b[0;34m(self, filepath, prefix, user_api, internal_api)\u001b[0m\n\u001b[1;32m    604\u001b[0m         \u001b[0mself\u001b[0m\u001b[0;34m.\u001b[0m\u001b[0minternal_api\u001b[0m \u001b[0;34m=\u001b[0m \u001b[0minternal_api\u001b[0m\u001b[0;34m\u001b[0m\u001b[0;34m\u001b[0m\u001b[0m\n\u001b[1;32m    605\u001b[0m         \u001b[0mself\u001b[0m\u001b[0;34m.\u001b[0m\u001b[0m_dynlib\u001b[0m \u001b[0;34m=\u001b[0m \u001b[0mctypes\u001b[0m\u001b[0;34m.\u001b[0m\u001b[0mCDLL\u001b[0m\u001b[0;34m(\u001b[0m\u001b[0mfilepath\u001b[0m\u001b[0;34m,\u001b[0m \u001b[0mmode\u001b[0m\u001b[0;34m=\u001b[0m\u001b[0m_RTLD_NOLOAD\u001b[0m\u001b[0;34m)\u001b[0m\u001b[0;34m\u001b[0m\u001b[0;34m\u001b[0m\u001b[0m\n\u001b[0;32m--> 606\u001b[0;31m         \u001b[0mself\u001b[0m\u001b[0;34m.\u001b[0m\u001b[0mversion\u001b[0m \u001b[0;34m=\u001b[0m \u001b[0mself\u001b[0m\u001b[0;34m.\u001b[0m\u001b[0mget_version\u001b[0m\u001b[0;34m(\u001b[0m\u001b[0;34m)\u001b[0m\u001b[0;34m\u001b[0m\u001b[0;34m\u001b[0m\u001b[0m\n\u001b[0m\u001b[1;32m    607\u001b[0m         \u001b[0mself\u001b[0m\u001b[0;34m.\u001b[0m\u001b[0mnum_threads\u001b[0m \u001b[0;34m=\u001b[0m \u001b[0mself\u001b[0m\u001b[0;34m.\u001b[0m\u001b[0mget_num_threads\u001b[0m\u001b[0;34m(\u001b[0m\u001b[0;34m)\u001b[0m\u001b[0;34m\u001b[0m\u001b[0;34m\u001b[0m\u001b[0m\n\u001b[1;32m    608\u001b[0m         \u001b[0mself\u001b[0m\u001b[0;34m.\u001b[0m\u001b[0m_get_extra_info\u001b[0m\u001b[0;34m(\u001b[0m\u001b[0;34m)\u001b[0m\u001b[0;34m\u001b[0m\u001b[0;34m\u001b[0m\u001b[0m\n",
      "\u001b[0;32m~/opt/anaconda3/lib/python3.9/site-packages/threadpoolctl.py\u001b[0m in \u001b[0;36mget_version\u001b[0;34m(self)\u001b[0m\n\u001b[1;32m    644\u001b[0m                              lambda: None)\n\u001b[1;32m    645\u001b[0m         \u001b[0mget_config\u001b[0m\u001b[0;34m.\u001b[0m\u001b[0mrestype\u001b[0m \u001b[0;34m=\u001b[0m \u001b[0mctypes\u001b[0m\u001b[0;34m.\u001b[0m\u001b[0mc_char_p\u001b[0m\u001b[0;34m\u001b[0m\u001b[0;34m\u001b[0m\u001b[0m\n\u001b[0;32m--> 646\u001b[0;31m         \u001b[0mconfig\u001b[0m \u001b[0;34m=\u001b[0m \u001b[0mget_config\u001b[0m\u001b[0;34m(\u001b[0m\u001b[0;34m)\u001b[0m\u001b[0;34m.\u001b[0m\u001b[0msplit\u001b[0m\u001b[0;34m(\u001b[0m\u001b[0;34m)\u001b[0m\u001b[0;34m\u001b[0m\u001b[0;34m\u001b[0m\u001b[0m\n\u001b[0m\u001b[1;32m    647\u001b[0m         \u001b[0;32mif\u001b[0m \u001b[0mconfig\u001b[0m\u001b[0;34m[\u001b[0m\u001b[0;36m0\u001b[0m\u001b[0;34m]\u001b[0m \u001b[0;34m==\u001b[0m \u001b[0;34mb\"OpenBLAS\"\u001b[0m\u001b[0;34m:\u001b[0m\u001b[0;34m\u001b[0m\u001b[0;34m\u001b[0m\u001b[0m\n\u001b[1;32m    648\u001b[0m             \u001b[0;32mreturn\u001b[0m \u001b[0mconfig\u001b[0m\u001b[0;34m[\u001b[0m\u001b[0;36m1\u001b[0m\u001b[0;34m]\u001b[0m\u001b[0;34m.\u001b[0m\u001b[0mdecode\u001b[0m\u001b[0;34m(\u001b[0m\u001b[0;34m\"utf-8\"\u001b[0m\u001b[0;34m)\u001b[0m\u001b[0;34m\u001b[0m\u001b[0;34m\u001b[0m\u001b[0m\n",
      "\u001b[0;31mAttributeError\u001b[0m: 'NoneType' object has no attribute 'split'"
     ]
    }
   ],
   "source": [
    "# Build the narrative model\n",
    "\n",
    "from relatio.wrappers import build_narrative_model\n",
    "\n",
    "narrative_model = build_narrative_model(\n",
    "    srl_res=srl_res,\n",
    "    sentences=split_sentences[1],  # list of sentences\n",
    "    roles_considered=[\"ARG0\", \"B-V\", \"B-ARGM-NEG\", \"B-ARGM-MOD\", \"ARG1\", \"ARG2\"],\n",
    "    roles_with_embeddings=[[\"ARG0\", \"ARG1\", \"ARG2\"]],\n",
    "    embeddings_type=\"gensim_keyed_vectors\",  # see documentation for a list of supported types\n",
    "    embeddings_path=\"glove-wiki-gigaword-300\",\n",
    "    n_clusters=[[50, 100]],  # try different cluster numbers\n",
    "    verbose=0,\n",
    "    roles_with_entities=[\"ARG0\", \"ARG1\", \"ARG2\"],\n",
    "    top_n_entities=50,\n",
    "    dimension_reduce_verbs=True,\n",
    "    output_path=None,\n",
    "    max_length=None,\n",
    "    remove_punctuation=True,\n",
    "    remove_digits=True,\n",
    "    remove_chars=\"\",\n",
    "    stop_words=spacy_stopwords,\n",
    "    lowercase=True,\n",
    "    strip=True,\n",
    "    remove_whitespaces=True,\n",
    "    lemmatize=True,\n",
    "    stem=False,\n",
    "    tags_to_keep=None,\n",
    "    remove_n_letter_words=1,\n",
    "    progress_bar=True,\n",
    ")"
   ]
  },
  {
   "cell_type": "code",
   "execution_count": null,
   "id": "8e303d09",
   "metadata": {},
   "outputs": [],
   "source": [
    "# What does the narrative model contain?\n",
    "narrative_model.keys()"
   ]
  },
  {
   "cell_type": "code",
   "execution_count": null,
   "id": "c44b6668",
   "metadata": {},
   "outputs": [],
   "source": [
    "#counter over named entities\n",
    "narrative_model['entities'].most_common()[:20]"
   ]
  },
  {
   "cell_type": "code",
   "execution_count": null,
   "id": "ba47e31c",
   "metadata": {},
   "outputs": [],
   "source": [
    "narrative_model['cluster_labels_most_freq']"
   ]
  },
  {
   "cell_type": "code",
   "execution_count": null,
   "id": "d704943e",
   "metadata": {},
   "outputs": [],
   "source": [
    "# Get narrative blocks based on the narrative_model and srl_res.\n",
    "from relatio.wrappers import get_narratives\n",
    "\n",
    "final_statements = get_narratives(\n",
    "    srl_res=srl_res,\n",
    "    doc_index=split_sentences[0],  # doc names\n",
    "    narrative_model=narrative_model,\n",
    "    output_path=None,\n",
    "    n_clusters=[0],  # pick model with 10 clusters\n",
    "    cluster_labeling=\"most_frequent\",\n",
    "    progress_bar=True,\n",
    ")"
   ]
  },
  {
   "cell_type": "code",
   "execution_count": null,
   "id": "dd85ebc4",
   "metadata": {},
   "outputs": [],
   "source": [
    "final_statements.head()"
   ]
  },
  {
   "cell_type": "code",
   "execution_count": null,
   "id": "ebfa49ab",
   "metadata": {},
   "outputs": [],
   "source": [
    "complete = (final_statements['ARG0_lowdim'] != '') & (final_statements['B-V_lowdim'] != '') & (final_statements['ARG1_lowdim'] != '')"
   ]
  },
  {
   "cell_type": "code",
   "execution_count": null,
   "id": "3aa1c522",
   "metadata": {},
   "outputs": [],
   "source": [
    "final_statements[complete][['ARG0_lowdim','B-V_lowdim', 'ARG1_lowdim']]"
   ]
  },
  {
   "cell_type": "code",
   "execution_count": null,
   "id": "432b30fb",
   "metadata": {},
   "outputs": [],
   "source": [
    "# Plot narrative network (preliminary)\n",
    "\n",
    "from relatio.graphs import build_graph, draw_graph\n",
    "\n",
    "temp = final_statements[[\"ARG0_lowdim\", \"ARG1_lowdim\", \"B-V_lowdim\"]]\n",
    "temp.columns = [\"ARG0\", \"ARG1\", \"B-V\"]\n",
    "temp = temp.groupby([\"ARG0\", \"ARG1\", \"B-V\"]).size().reset_index(name=\"weight\")\n",
    "temp = temp.sort_values(by=\"weight\", ascending=False).iloc[\n",
    "    0:100\n",
    "]  # pick top 100 most frequent narratives\n",
    "temp = temp.to_dict(orient=\"records\")\n",
    "\n",
    "for l in temp:\n",
    "    l[\"color\"] = None\n",
    "\n",
    "G = build_graph(\n",
    "    dict_edges=temp, dict_args={}, edge_size=None, node_size=10, prune_network=True\n",
    ")\n",
    "draw_graph(G, notebook=False, output_filename=\"graph_test.html\")"
   ]
  },
  {
   "cell_type": "code",
   "execution_count": null,
   "id": "f500e2b4",
   "metadata": {},
   "outputs": [],
   "source": [
    "import IPython\n",
    "IPython.display.HTML(filename='graph_test.html')"
   ]
  }
 ],
 "metadata": {
  "kernelspec": {
   "display_name": "Python 3 (ipykernel)",
   "language": "python",
   "name": "python3"
  },
  "language_info": {
   "codemirror_mode": {
    "name": "ipython",
    "version": 3
   },
   "file_extension": ".py",
   "mimetype": "text/x-python",
   "name": "python",
   "nbconvert_exporter": "python",
   "pygments_lexer": "ipython3",
   "version": "3.9.7"
  }
 },
 "nbformat": 4,
 "nbformat_minor": 5
}
